{
  "cells": [
    {
      "cell_type": "code",
      "execution_count": null,
      "metadata": {},
      "outputs": [],
      "source": [
        "!apt-get install rar\n",
        "!pip install pyunpack\n",
        "!pip install patool"
      ]
    },
    {
      "cell_type": "code",
      "execution_count": null,
      "metadata": {},
      "outputs": [],
      "source": [
        "import tensorflow as tf\n",
        "from tensorflow.keras import datasets, layers, models\n",
        "import matplotlib.pyplot as plt\n",
        "import numpy as np\n",
        "from sklearn.model_selection import train_test_split\n",
        "from PIL import Image\n",
        "from numpy import asarray\n",
        "from glob import glob\n",
        "import numpy as np\n",
        "from sklearn.preprocessing import LabelEncoder\n",
        "import re\n",
        "import pandas as pd "
      ]
    },
    {
      "cell_type": "code",
      "execution_count": 1,
      "metadata": {
        "colab": {
          "base_uri": "https://localhost:8080/"
        },
        "id": "KTcBZTaYsbWB",
        "outputId": "42c412f8-b445-4b54-a9f3-d904cc689c0a"
      },
      "outputs": [
        {
          "name": "stdout",
          "output_type": "stream",
          "text": [
            "Drive already mounted at /content/drive; to attempt to forcibly remount, call drive.mount(\"/content/drive\", force_remount=True).\n"
          ]
        }
      ],
      "source": [
        "from google.colab import drive\n",
        "drive.mount('/content/drive')"
      ]
    },
    {
      "cell_type": "code",
      "execution_count": null,
      "metadata": {
        "id": "A2IcC5uEsYLp"
      },
      "outputs": [],
      "source": [
        "%cp \"/content/drive/MyDrive/edsr_comparsion.zip\" \"/content/\""
      ]
    },
    {
      "cell_type": "code",
      "execution_count": null,
      "metadata": {
        "id": "7N0QT3I1f0sM"
      },
      "outputs": [],
      "source": [
        "!unrar x \"/content/edsr_comparsion.zip\" \"/content/\""
      ]
    },
    {
      "cell_type": "code",
      "execution_count": null,
      "metadata": {
        "colab": {
          "base_uri": "https://localhost:8080/"
        },
        "id": "stbd7EYoJbUs",
        "outputId": "ab0a4cbc-c392-4a21-be26-8071b1b67e17"
      },
      "outputs": [
        {
          "name": "stdout",
          "output_type": "stream",
          "text": [
            "/content\n"
          ]
        }
      ],
      "source": [
        "%cd /content/content/"
      ]
    },
    {
      "cell_type": "code",
      "execution_count": null,
      "metadata": {
        "id": "3dFiMwp8JmvA"
      },
      "outputs": [],
      "source": [
        "%rm EDSR-PyTorch/experiment/*"
      ]
    },
    {
      "cell_type": "code",
      "execution_count": null,
      "metadata": {},
      "outputs": [],
      "source": [
        "%cd /content/content/EDSR-PyTorch/src"
      ]
    },
    {
      "attachments": {},
      "cell_type": "markdown",
      "metadata": {},
      "source": [
        "### Executing EDSR model to convert LR images to HR with x2 scale"
      ]
    },
    {
      "cell_type": "code",
      "execution_count": null,
      "metadata": {
        "colab": {
          "base_uri": "https://localhost:8080/"
        },
        "id": "xNr5B6zYJi3a",
        "outputId": "7aa71e82-dc65-4659-bc3c-8cf964d291e5"
      },
      "outputs": [
        {
          "name": "stdout",
          "output_type": "stream",
          "text": [
            "Choose which model you need: \n",
            " [1]Edsr_baseline_x2  [2]Edsr_baseline_x3  [3]Edsr_baseline_x4  [4]Edsr_x2  [5]Edsr_x3  [6]Edsr_x4 \n",
            "4\n",
            "Making model...\n",
            "model_weights/edsr_x2-0edfb8a3.pt\n",
            "processing...\n"
          ]
        }
      ],
      "source": [
        "!python main.py"
      ]
    },
    {
      "cell_type": "code",
      "execution_count": null,
      "metadata": {
        "colab": {
          "base_uri": "https://localhost:8080/"
        },
        "id": "9R3ICUEkNp-h",
        "outputId": "7ee08882-9052-42ba-df9f-67060021bccd"
      },
      "outputs": [
        {
          "name": "stdout",
          "output_type": "stream",
          "text": [
            "/content\n"
          ]
        }
      ],
      "source": [
        "%cd content/"
      ]
    },
    {
      "attachments": {},
      "cell_type": "markdown",
      "metadata": {},
      "source": [
        "## Data preprocessing stage"
      ]
    },
    {
      "cell_type": "code",
      "execution_count": null,
      "metadata": {
        "id": "97qw5bagI15T"
      },
      "outputs": [],
      "source": [
        "#/content/EDSR-PyTorch/downscaled/*\n",
        "def conv_Data(path):\n",
        "  a = glob(path, recursive = True)\n",
        "  downscaled = []\n",
        "  for i in a:\n",
        "    image = Image.open(i)\n",
        "    data = asarray(image)\n",
        "    downscaled.append(data)\n",
        "  return np.array(downscaled)"
      ]
    },
    {
      "cell_type": "code",
      "execution_count": null,
      "metadata": {
        "id": "3hHCjIyEJd7V"
      },
      "outputs": [],
      "source": [
        "downscaled = conv_Data('/content/content/EDSR-PyTorch/downscaled/*')\n",
        "original = conv_Data('/content/content/EDSR-PyTorch/original/*')\n",
        "hr = conv_Data('/content/content/EDSR-PyTorch/experiment/*')"
      ]
    },
    {
      "cell_type": "code",
      "execution_count": null,
      "metadata": {
        "colab": {
          "base_uri": "https://localhost:8080/"
        },
        "id": "TYVz-dZNJggB",
        "outputId": "81ea3fb7-e0e7-410c-e2f0-d937f7621d47"
      },
      "outputs": [
        {
          "data": {
            "text/plain": [
              "((50000, 16, 16, 3), (50000, 32, 32, 3), (50000, 32, 32, 3))"
            ]
          },
          "execution_count": 8,
          "metadata": {},
          "output_type": "execute_result"
        }
      ],
      "source": [
        "downscaled.shape, original.shape, hr.shape"
      ]
    },
    {
      "cell_type": "code",
      "execution_count": null,
      "metadata": {
        "id": "clDDTDXEKRJ6"
      },
      "outputs": [],
      "source": [
        "df = pd.read_csv('/content/drive/MyDrive/trainLabels.csv')"
      ]
    },
    {
      "cell_type": "code",
      "execution_count": null,
      "metadata": {
        "colab": {
          "base_uri": "https://localhost:8080/"
        },
        "id": "36nATvl8WKZk",
        "outputId": "6b392b48-efd8-48a5-c09d-20fc41b7a371"
      },
      "outputs": [
        {
          "data": {
            "text/plain": [
              "id        int64\n",
              "label    object\n",
              "dtype: object"
            ]
          },
          "execution_count": 11,
          "metadata": {},
          "output_type": "execute_result"
        }
      ],
      "source": [
        "df.dtypes"
      ]
    },
    {
      "cell_type": "code",
      "execution_count": null,
      "metadata": {
        "id": "k1XOWKxsRVzn"
      },
      "outputs": [],
      "source": [
        "img_number = []\n",
        "a = glob('/content/content/EDSR-PyTorch/original/*', recursive = True)\n",
        "for i in a:\n",
        "  img_number.append(i.split('/')[-1].split('.')[0])\n",
        "img_number = np.array(img_number)"
      ]
    },
    {
      "cell_type": "code",
      "execution_count": null,
      "metadata": {
        "id": "8BC6RKsxTPdO"
      },
      "outputs": [],
      "source": [
        "img_categ_class = []\n",
        "for i in img_number:\n",
        "  labs = df.loc[df['id'] == int(i)]\n",
        "  img_categ_class.append(np.array(labs['label'])[0])\n",
        "img_categ_class = np.array(img_categ_class)"
      ]
    },
    {
      "cell_type": "code",
      "execution_count": null,
      "metadata": {
        "colab": {
          "base_uri": "https://localhost:8080/"
        },
        "id": "tYoLuYA2Wb_i",
        "outputId": "49811add-12bf-42bf-dd25-748f788ceade"
      },
      "outputs": [
        {
          "data": {
            "text/plain": [
              "array(['bird', 'bird', 'cat', ..., 'airplane', 'horse', 'frog'],\n",
              "      dtype='<U10')"
            ]
          },
          "execution_count": 13,
          "metadata": {},
          "output_type": "execute_result"
        }
      ],
      "source": [
        "img_categ_class"
      ]
    },
    {
      "cell_type": "code",
      "execution_count": null,
      "metadata": {
        "id": "6JtK6q9zLVPL"
      },
      "outputs": [],
      "source": [
        "labelencoder = LabelEncoder()\n",
        "n_df = labelencoder.fit_transform(img_categ_class)\n",
        "labels = np.array(n_df)"
      ]
    },
    {
      "cell_type": "code",
      "execution_count": null,
      "metadata": {
        "colab": {
          "base_uri": "https://localhost:8080/"
        },
        "id": "xaJpY-l3LhVJ",
        "outputId": "a0217511-03cb-4852-a51c-82a49c6d056f"
      },
      "outputs": [
        {
          "data": {
            "text/plain": [
              "array([0, 1, 2, 3, 4, 5, 6, 7, 8, 9])"
            ]
          },
          "execution_count": 22,
          "metadata": {},
          "output_type": "execute_result"
        }
      ],
      "source": [
        "np.unique(labels)"
      ]
    },
    {
      "attachments": {},
      "cell_type": "markdown",
      "metadata": {},
      "source": [
        "## Performance Recovery Score Experiment"
      ]
    },
    {
      "cell_type": "code",
      "execution_count": null,
      "metadata": {
        "id": "GGlh49sgP92J"
      },
      "outputs": [],
      "source": [
        "X_train, X_test, y_train, y_test = train_test_split(hr, labels, test_size=0.2, random_state=42)"
      ]
    },
    {
      "cell_type": "code",
      "execution_count": null,
      "metadata": {
        "id": "9OpZAqZnQKsB"
      },
      "outputs": [],
      "source": [
        "X_train = X_train / 255.0\n",
        "X_test = X_test / 255.0"
      ]
    },
    {
      "cell_type": "code",
      "execution_count": null,
      "metadata": {
        "id": "RgWBSzHIQT2_"
      },
      "outputs": [],
      "source": [
        "cnn = models.Sequential([\n",
        "    layers.Conv2D(filters=32, kernel_size=(3, 3), activation='relu', input_shape=(32, 32, 3)),\n",
        "    layers.MaxPooling2D((2, 2)),\n",
        "    \n",
        "    layers.Conv2D(filters=64, kernel_size=(3, 3), activation='relu'),\n",
        "    layers.MaxPooling2D((2, 2)),\n",
        "    \n",
        "    layers.Flatten(),\n",
        "    layers.Dense(64, activation='relu'),\n",
        "    layers.Dense(10, activation='softmax')\n",
        "])"
      ]
    },
    {
      "cell_type": "code",
      "execution_count": null,
      "metadata": {
        "colab": {
          "base_uri": "https://localhost:8080/"
        },
        "id": "2jSKW7lnmfzC",
        "outputId": "818e0f7a-5fb0-49c5-9c3e-159502ab3f4e"
      },
      "outputs": [
        {
          "name": "stdout",
          "output_type": "stream",
          "text": [
            "Model: \"sequential_5\"\n",
            "_________________________________________________________________\n",
            " Layer (type)                Output Shape              Param #   \n",
            "=================================================================\n",
            " conv2d_10 (Conv2D)          (None, 30, 30, 32)        896       \n",
            "                                                                 \n",
            " max_pooling2d_10 (MaxPoolin  (None, 15, 15, 32)       0         \n",
            " g2D)                                                            \n",
            "                                                                 \n",
            " conv2d_11 (Conv2D)          (None, 13, 13, 64)        18496     \n",
            "                                                                 \n",
            " max_pooling2d_11 (MaxPoolin  (None, 6, 6, 64)         0         \n",
            " g2D)                                                            \n",
            "                                                                 \n",
            " flatten_5 (Flatten)         (None, 2304)              0         \n",
            "                                                                 \n",
            " dense_10 (Dense)            (None, 64)                147520    \n",
            "                                                                 \n",
            " dense_11 (Dense)            (None, 10)                650       \n",
            "                                                                 \n",
            "=================================================================\n",
            "Total params: 167,562\n",
            "Trainable params: 167,562\n",
            "Non-trainable params: 0\n",
            "_________________________________________________________________\n"
          ]
        }
      ],
      "source": [
        "cnn.summary()"
      ]
    },
    {
      "cell_type": "code",
      "execution_count": null,
      "metadata": {
        "colab": {
          "base_uri": "https://localhost:8080/",
          "height": 758
        },
        "id": "WZv1XpDMmqVC",
        "outputId": "5ce4f0e9-1ce7-4ebb-dafd-8e9da16f9d41"
      },
      "outputs": [
        {
          "data": {
            "image/png": "[encoded data removed]",
            "text/plain": [
              "<IPython.core.display.Image object>"
            ]
          },
          "execution_count": 109,
          "metadata": {},
          "output_type": "execute_result"
        }
      ],
      "source": [
        "tf.keras.utils.plot_model(\n",
        "    cnn,\n",
        "    to_file='model.png',\n",
        "    show_shapes=False,\n",
        "    show_dtype=False,\n",
        "    show_layer_names=True,\n",
        "    rankdir='TB',\n",
        "    expand_nested=False,\n",
        "    dpi=96,\n",
        "    layer_range=None,\n",
        "    show_layer_activations=False\n",
        ")"
      ]
    },
    {
      "cell_type": "code",
      "execution_count": null,
      "metadata": {
        "id": "ejd4yuv8QZLN"
      },
      "outputs": [],
      "source": [
        "cnn.compile(optimizer='adam',\n",
        "              loss='sparse_categorical_crossentropy',\n",
        "              metrics=['accuracy'])"
      ]
    },
    {
      "cell_type": "code",
      "execution_count": null,
      "metadata": {
        "colab": {
          "base_uri": "https://localhost:8080/"
        },
        "id": "rBuRw5q2QcYx",
        "outputId": "9194561e-14e5-4a7a-c662-dd81e0ed02cb"
      },
      "outputs": [
        {
          "name": "stdout",
          "output_type": "stream",
          "text": [
            "Epoch 1/10\n",
            "1125/1125 [==============================] - 4s 4ms/step - loss: 1.5682 - accuracy: 0.4331 - val_loss: 1.4085 - val_accuracy: 0.4988\n",
            "Epoch 2/10\n",
            "1125/1125 [==============================] - 4s 3ms/step - loss: 1.2263 - accuracy: 0.5660 - val_loss: 1.1579 - val_accuracy: 0.6030\n",
            "Epoch 3/10\n",
            "1125/1125 [==============================] - 4s 3ms/step - loss: 1.0858 - accuracy: 0.6187 - val_loss: 1.0828 - val_accuracy: 0.6173\n",
            "Epoch 4/10\n",
            "1125/1125 [==============================] - 5s 4ms/step - loss: 0.9885 - accuracy: 0.6541 - val_loss: 1.0467 - val_accuracy: 0.6295\n",
            "Epoch 5/10\n",
            "1125/1125 [==============================] - 4s 3ms/step - loss: 0.9176 - accuracy: 0.6802 - val_loss: 1.0048 - val_accuracy: 0.6490\n",
            "Epoch 6/10\n",
            "1125/1125 [==============================] - 4s 3ms/step - loss: 0.8605 - accuracy: 0.6955 - val_loss: 1.0278 - val_accuracy: 0.6388\n",
            "Epoch 7/10\n",
            "1125/1125 [==============================] - 4s 3ms/step - loss: 0.8131 - accuracy: 0.7179 - val_loss: 1.0417 - val_accuracy: 0.6482\n",
            "Epoch 8/10\n",
            "1125/1125 [==============================] - 4s 3ms/step - loss: 0.7638 - accuracy: 0.7328 - val_loss: 1.0004 - val_accuracy: 0.6545\n",
            "Epoch 9/10\n",
            "1125/1125 [==============================] - 4s 3ms/step - loss: 0.7174 - accuracy: 0.7501 - val_loss: 1.0172 - val_accuracy: 0.6515\n",
            "Epoch 10/10\n",
            "1125/1125 [==============================] - 5s 4ms/step - loss: 0.6791 - accuracy: 0.7598 - val_loss: 1.0231 - val_accuracy: 0.6653\n"
          ]
        }
      ],
      "source": [
        "history = cnn.fit(X_train, y_train, epochs=10,validation_split=0.1)"
      ]
    },
    {
      "cell_type": "code",
      "execution_count": null,
      "metadata": {
        "colab": {
          "base_uri": "https://localhost:8080/"
        },
        "id": "gbZka_18cMlN",
        "outputId": "d2c448e4-e7a7-4d38-c257-0c94dfd2dd2e"
      },
      "outputs": [
        {
          "name": "stdout",
          "output_type": "stream",
          "text": [
            "dict_keys(['loss', 'accuracy', 'val_loss', 'val_accuracy'])\n"
          ]
        }
      ],
      "source": [
        "print(history.history.keys())"
      ]
    },
    {
      "cell_type": "code",
      "execution_count": null,
      "metadata": {
        "colab": {
          "base_uri": "https://localhost:8080/",
          "height": 350
        },
        "id": "SEhoMhSZcQwQ",
        "outputId": "10da2789-ca6a-4448-cf81-bdb17ab9f755"
      },
      "outputs": [
        {
          "data": {
            "image/png": "[encoded data removed]",
            "text/plain": [
              "<Figure size 648x360 with 1 Axes>"
            ]
          },
          "metadata": {
            "needs_background": "light"
          },
          "output_type": "display_data"
        }
      ],
      "source": [
        "plt.figure(figsize=(9,5))\n",
        "plt.plot(history.history['accuracy'])\n",
        "plt.plot(history.history['val_accuracy'])\n",
        "plt.title('Model Accuracy HR')\n",
        "plt.ylabel('Accuracy')\n",
        "plt.xlabel('Epochs')\n",
        "plt.legend(['Training', 'Validation'], loc='upper left')\n",
        "plt.show()"
      ]
    },
    {
      "cell_type": "code",
      "execution_count": null,
      "metadata": {
        "colab": {
          "base_uri": "https://localhost:8080/",
          "height": 350
        },
        "id": "UPWIOe-TcApS",
        "outputId": "c7ddb569-be5b-4a09-f343-00acd10fe869"
      },
      "outputs": [
        {
          "data": {
            "image/png": "[encoded data removed]",
            "text/plain": [
              "<Figure size 648x360 with 1 Axes>"
            ]
          },
          "metadata": {
            "needs_background": "light"
          },
          "output_type": "display_data"
        }
      ],
      "source": [
        "plt.figure(figsize=(9,5))\n",
        "plt.plot(history.history['loss'])\n",
        "plt.plot(history.history['val_loss'])\n",
        "plt.title('Model Loss HR')\n",
        "plt.ylabel('Loss')\n",
        "plt.xlabel('Epochs')\n",
        "plt.legend(['Training', 'Validation'], loc='upper right')\n",
        "plt.show()"
      ]
    },
    {
      "cell_type": "code",
      "execution_count": null,
      "metadata": {
        "colab": {
          "base_uri": "https://localhost:8080/"
        },
        "id": "x4PEVDv5QeAV",
        "outputId": "4a0ee350-0031-4c6f-9b92-1c8f62773ce3"
      },
      "outputs": [
        {
          "name": "stdout",
          "output_type": "stream",
          "text": [
            "313/313 [==============================] - 1s 3ms/step - loss: 0.9738 - accuracy: 0.6707\n"
          ]
        },
        {
          "data": {
            "text/plain": [
              "[0.9738052487373352, 0.6707000136375427]"
            ]
          },
          "execution_count": 86,
          "metadata": {},
          "output_type": "execute_result"
        }
      ],
      "source": [
        "cnn.evaluate(X_test,y_test)"
      ]
    },
    {
      "cell_type": "code",
      "execution_count": null,
      "metadata": {
        "id": "P_S0p_ClZo4y"
      },
      "outputs": [],
      "source": [
        "X_train, X_test, y_train, y_test = train_test_split(downscaled, lab, test_size=0.2, random_state=42)"
      ]
    },
    {
      "cell_type": "code",
      "execution_count": null,
      "metadata": {
        "id": "8PwsQfFIrwLE"
      },
      "outputs": [],
      "source": [
        "X_train = X_train / 255.0\n",
        "X_test = X_test / 255.0"
      ]
    },
    {
      "cell_type": "code",
      "execution_count": null,
      "metadata": {
        "id": "N9cBIIHtjrii"
      },
      "outputs": [],
      "source": [
        "cnn = models.Sequential([\n",
        "    layers.Conv2D(filters=32, kernel_size=(3, 3), activation='relu', input_shape=(16, 16, 3)),\n",
        "    layers.MaxPooling2D((2, 2)),\n",
        "    \n",
        "    layers.Conv2D(filters=64, kernel_size=(3, 3), activation='relu'),\n",
        "    layers.MaxPooling2D((2, 2)),\n",
        "    \n",
        "    layers.Flatten(),\n",
        "    layers.Dense(64, activation='relu'),\n",
        "    layers.Dense(10, activation='softmax')\n",
        "])"
      ]
    },
    {
      "cell_type": "code",
      "execution_count": null,
      "metadata": {
        "id": "V8JRDsXSjvAH"
      },
      "outputs": [],
      "source": [
        "cnn.compile(optimizer='adam',\n",
        "              loss='sparse_categorical_crossentropy',\n",
        "              metrics=['accuracy'])"
      ]
    },
    {
      "cell_type": "code",
      "execution_count": null,
      "metadata": {
        "colab": {
          "base_uri": "https://localhost:8080/"
        },
        "id": "jK0KaDmGrBfZ",
        "outputId": "23ca8af4-cc47-4ff4-a9eb-e32de7912a04"
      },
      "outputs": [
        {
          "name": "stdout",
          "output_type": "stream",
          "text": [
            "Epoch 1/10\n",
            "1125/1125 [==============================] - 4s 3ms/step - loss: 1.7436 - accuracy: 0.3576 - val_loss: 1.5995 - val_accuracy: 0.4178\n",
            "Epoch 2/10\n",
            "1125/1125 [==============================] - 3s 3ms/step - loss: 1.4817 - accuracy: 0.4647 - val_loss: 1.4939 - val_accuracy: 0.4645\n",
            "Epoch 3/10\n",
            "1125/1125 [==============================] - 3s 3ms/step - loss: 1.3821 - accuracy: 0.5010 - val_loss: 1.3602 - val_accuracy: 0.5247\n",
            "Epoch 4/10\n",
            "1125/1125 [==============================] - 4s 3ms/step - loss: 1.3065 - accuracy: 0.5325 - val_loss: 1.3332 - val_accuracy: 0.5222\n",
            "Epoch 5/10\n",
            "1125/1125 [==============================] - 4s 4ms/step - loss: 1.2489 - accuracy: 0.5529 - val_loss: 1.3774 - val_accuracy: 0.5155\n",
            "Epoch 6/10\n",
            "1125/1125 [==============================] - 4s 3ms/step - loss: 1.2031 - accuracy: 0.5718 - val_loss: 1.2688 - val_accuracy: 0.5508\n",
            "Epoch 7/10\n",
            "1125/1125 [==============================] - 3s 3ms/step - loss: 1.1642 - accuracy: 0.5867 - val_loss: 1.2364 - val_accuracy: 0.5600\n",
            "Epoch 8/10\n",
            "1125/1125 [==============================] - 3s 3ms/step - loss: 1.1251 - accuracy: 0.6010 - val_loss: 1.2154 - val_accuracy: 0.5717\n",
            "Epoch 9/10\n",
            "1125/1125 [==============================] - 3s 3ms/step - loss: 1.0986 - accuracy: 0.6084 - val_loss: 1.1901 - val_accuracy: 0.5765\n",
            "Epoch 10/10\n",
            "1125/1125 [==============================] - 3s 3ms/step - loss: 1.0711 - accuracy: 0.6220 - val_loss: 1.1862 - val_accuracy: 0.5790\n"
          ]
        }
      ],
      "source": [
        "history = cnn.fit(X_train, y_train, epochs=10,validation_split=0.1)"
      ]
    },
    {
      "cell_type": "code",
      "execution_count": null,
      "metadata": {
        "colab": {
          "base_uri": "https://localhost:8080/",
          "height": 350
        },
        "id": "LNVG6A88hMhq",
        "outputId": "b55752df-9605-4374-d172-8c80c5b50b6a"
      },
      "outputs": [
        {
          "data": {
            "image/png": "[encoded data removed]",
            "text/plain": [
              "<Figure size 648x360 with 1 Axes>"
            ]
          },
          "metadata": {
            "needs_background": "light"
          },
          "output_type": "display_data"
        }
      ],
      "source": [
        "plt.figure(figsize=(9,5))\n",
        "plt.plot(history.history['accuracy'])\n",
        "plt.plot(history.history['val_accuracy'])\n",
        "plt.title('Model Accuracy LR')\n",
        "plt.ylabel('Accuracy')\n",
        "plt.xlabel('Epochs')\n",
        "plt.legend(['Training', 'Validation'], loc='upper left')\n",
        "plt.show()"
      ]
    },
    {
      "cell_type": "code",
      "execution_count": null,
      "metadata": {
        "colab": {
          "base_uri": "https://localhost:8080/",
          "height": 350
        },
        "id": "qJS4bvFPhO35",
        "outputId": "8f61125b-8441-476d-efb1-7d0301178dab"
      },
      "outputs": [
        {
          "data": {
            "image/png": "[encoded data removed]",
            "text/plain": [
              "<Figure size 648x360 with 1 Axes>"
            ]
          },
          "metadata": {
            "needs_background": "light"
          },
          "output_type": "display_data"
        }
      ],
      "source": [
        "plt.figure(figsize=(9,5))\n",
        "plt.plot(history.history['loss'])\n",
        "plt.plot(history.history['val_loss'])\n",
        "plt.title('Model Loss LR')\n",
        "plt.ylabel('Loss')\n",
        "plt.xlabel('Epochs')\n",
        "plt.legend(['Training', 'Validation'], loc='upper right')\n",
        "plt.show()"
      ]
    },
    {
      "cell_type": "code",
      "execution_count": null,
      "metadata": {
        "colab": {
          "base_uri": "https://localhost:8080/"
        },
        "id": "44IPtEq5rDEB",
        "outputId": "b134431b-582e-4425-8332-3a98c5e4dd1d"
      },
      "outputs": [
        {
          "name": "stdout",
          "output_type": "stream",
          "text": [
            "313/313 [==============================] - 1s 3ms/step - loss: 1.1576 - accuracy: 0.6000\n"
          ]
        },
        {
          "data": {
            "text/plain": [
              "[1.1576499938964844, 0.6000000238418579]"
            ]
          },
          "execution_count": 96,
          "metadata": {},
          "output_type": "execute_result"
        }
      ],
      "source": [
        "cnn.evaluate(X_test,y_test)"
      ]
    },
    {
      "cell_type": "code",
      "execution_count": null,
      "metadata": {
        "id": "jufPDxIzrpOl"
      },
      "outputs": [],
      "source": [
        "X_train, X_test, y_train, y_test = train_test_split(original, lab, test_size=0.2, random_state=42)"
      ]
    },
    {
      "cell_type": "code",
      "execution_count": null,
      "metadata": {
        "id": "4hIop1U2r1ur"
      },
      "outputs": [],
      "source": [
        "X_train = X_train / 255.0\n",
        "X_test = X_test / 255.0"
      ]
    },
    {
      "cell_type": "code",
      "execution_count": null,
      "metadata": {
        "colab": {
          "base_uri": "https://localhost:8080/"
        },
        "id": "ANpo_vYMrmTh",
        "outputId": "fe580998-5d87-4660-aa3d-7a4bfe398420"
      },
      "outputs": [
        {
          "name": "stdout",
          "output_type": "stream",
          "text": [
            "Epoch 1/10\n",
            "1125/1125 [==============================] - 5s 4ms/step - loss: 1.5624 - accuracy: 0.4357 - val_loss: 1.2737 - val_accuracy: 0.5412\n",
            "Epoch 2/10\n",
            "1125/1125 [==============================] - 4s 3ms/step - loss: 1.1928 - accuracy: 0.5799 - val_loss: 1.1283 - val_accuracy: 0.6020\n",
            "Epoch 3/10\n",
            "1125/1125 [==============================] - 4s 3ms/step - loss: 1.0526 - accuracy: 0.6332 - val_loss: 1.0703 - val_accuracy: 0.6155\n",
            "Epoch 4/10\n",
            "1125/1125 [==============================] - 4s 3ms/step - loss: 0.9634 - accuracy: 0.6648 - val_loss: 1.0604 - val_accuracy: 0.6310\n",
            "Epoch 5/10\n",
            "1125/1125 [==============================] - 4s 3ms/step - loss: 0.8903 - accuracy: 0.6902 - val_loss: 0.9815 - val_accuracy: 0.6595\n",
            "Epoch 6/10\n",
            "1125/1125 [==============================] - 4s 3ms/step - loss: 0.8314 - accuracy: 0.7130 - val_loss: 0.9646 - val_accuracy: 0.6690\n",
            "Epoch 7/10\n",
            "1125/1125 [==============================] - 4s 3ms/step - loss: 0.7790 - accuracy: 0.7307 - val_loss: 0.9814 - val_accuracy: 0.6605\n",
            "Epoch 8/10\n",
            "1125/1125 [==============================] - 4s 3ms/step - loss: 0.7361 - accuracy: 0.7452 - val_loss: 0.9480 - val_accuracy: 0.6862\n",
            "Epoch 9/10\n",
            "1125/1125 [==============================] - 4s 3ms/step - loss: 0.6907 - accuracy: 0.7588 - val_loss: 0.9486 - val_accuracy: 0.6760\n",
            "Epoch 10/10\n",
            "1125/1125 [==============================] - 4s 3ms/step - loss: 0.6553 - accuracy: 0.7719 - val_loss: 0.9734 - val_accuracy: 0.6800\n"
          ]
        }
      ],
      "source": [
        "history = cnn.fit(X_train, y_train, epochs=10,validation_split=0.1)"
      ]
    },
    {
      "cell_type": "code",
      "execution_count": null,
      "metadata": {
        "colab": {
          "base_uri": "https://localhost:8080/",
          "height": 350
        },
        "id": "NGc0eUO5hdm6",
        "outputId": "48aeab11-046a-4872-8d47-feeb9597d343"
      },
      "outputs": [
        {
          "data": {
            "image/png": "[encoded data removed]",
            "text/plain": [
              "<Figure size 648x360 with 1 Axes>"
            ]
          },
          "metadata": {
            "needs_background": "light"
          },
          "output_type": "display_data"
        }
      ],
      "source": [
        "plt.figure(figsize=(9,5))\n",
        "plt.plot(history.history['accuracy'])\n",
        "plt.plot(history.history['val_accuracy'])\n",
        "plt.title('Model Accuracy Original')\n",
        "plt.ylabel('Accuracy')\n",
        "plt.xlabel('Epochs')\n",
        "plt.legend(['Training', 'Validation'], loc='upper left')\n",
        "plt.show()"
      ]
    },
    {
      "cell_type": "code",
      "execution_count": null,
      "metadata": {
        "colab": {
          "base_uri": "https://localhost:8080/",
          "height": 350
        },
        "id": "PVu73q2Qhem1",
        "outputId": "cbcb9b28-0070-4c16-bf17-17c929a90a7b"
      },
      "outputs": [
        {
          "data": {
            "image/png": "[encoded data removed]",
            "text/plain": [
              "<Figure size 648x360 with 1 Axes>"
            ]
          },
          "metadata": {
            "needs_background": "light"
          },
          "output_type": "display_data"
        }
      ],
      "source": [
        "plt.figure(figsize=(9,5))\n",
        "plt.plot(history.history['loss'])\n",
        "plt.plot(history.history['val_loss'])\n",
        "plt.title('Model Loss Original')\n",
        "plt.ylabel('Loss')\n",
        "plt.xlabel('Epochs')\n",
        "plt.legend(['Training', 'Validation'], loc='upper right')\n",
        "plt.show()"
      ]
    },
    {
      "cell_type": "code",
      "execution_count": null,
      "metadata": {
        "colab": {
          "base_uri": "https://localhost:8080/"
        },
        "id": "TalYUpNArss7",
        "outputId": "f42f999c-d492-4b82-f718-ae694a726372"
      },
      "outputs": [
        {
          "name": "stdout",
          "output_type": "stream",
          "text": [
            "313/313 [==============================] - 2s 5ms/step - loss: 0.9595 - accuracy: 0.6799\n"
          ]
        },
        {
          "data": {
            "text/plain": [
              "[0.9594609141349792, 0.6798999905586243]"
            ]
          },
          "execution_count": 106,
          "metadata": {},
          "output_type": "execute_result"
        }
      ],
      "source": [
        "cnn.evaluate(X_test,y_test)"
      ]
    },
    {
      "cell_type": "code",
      "execution_count": null,
      "metadata": {
        "colab": {
          "base_uri": "https://localhost:8080/"
        },
        "id": "OZ0pbhddkc8B",
        "outputId": "4de3bf7a-77cb-4329-a6d7-258fca67205b"
      },
      "outputs": [
        {
          "data": {
            "text/plain": [
              "0.9864686320799584"
            ]
          },
          "execution_count": 107,
          "metadata": {},
          "output_type": "execute_result"
        }
      ],
      "source": [
        "0.6707000136375427 / 0.6798999905586243"
      ]
    }
  ],
  "metadata": {
    "accelerator": "GPU",
    "colab": {
      "collapsed_sections": [],
      "name": "Untitled22.ipynb",
      "provenance": []
    },
    "kernelspec": {
      "display_name": "Python 3",
      "name": "python3"
    },
    "language_info": {
      "name": "python"
    }
  },
  "nbformat": 4,
  "nbformat_minor": 0
}
